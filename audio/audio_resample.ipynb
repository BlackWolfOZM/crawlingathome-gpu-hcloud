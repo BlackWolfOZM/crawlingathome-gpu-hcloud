{
 "cells": [
  {
   "cell_type": "code",
   "execution_count": 37,
   "metadata": {},
   "outputs": [
    {
     "name": "stdout",
     "output_type": "stream",
     "text": [
      "----------\n",
      "Source: ./_sample_data/e2b474d6c0094c3da22788e7875f7787.mp3\n",
      "----------\n",
      " - File size: 603742 bytes\n",
      " - AudioMetaData(sample_rate=22050, num_frames=1664202, num_channels=2, bits_per_sample=0, encoding=MP3)\n"
     ]
    }
   ],
   "source": [
    "import torchaudio\n",
    "import torchaudio.transforms as T\n",
    "import requests\n",
    "import uuid\n",
    "\n",
    "url = 'https://deploy.laion.ai/0fed69941baaabaeccedc2aaaaaaaaaa/WeSoundEffects/Glitchedtones/Urban%20Traffic/urban%20traffic%2C%20bus%20journey%2C%20interior%2C%20newcastle%2C%20uk%20%282%29.wav'\n",
    "file = uuid.uuid4().hex\n",
    "with requests.get(url) as response:\n",
    "  with open(file, 'wb') as f:\n",
    "    f.write(response.content)\n",
    "    waveform, sample_rate = torchaudio.load(file)\n",
    "    resampler = T.Resample(sample_rate, 20050, dtype=waveform.dtype)\n",
    "    resampled_waveform = resampler(waveform)\n",
    "    path = f\"{file}.mp3\"\n",
    "    torchaudio.save(path, resampled_waveform, 20050, format=\"mp3\")"
   ]
  }
 ],
 "metadata": {
  "interpreter": {
   "hash": "ee22a52db22349ad32e35f3b499efddea1c9229e771c5fd65652469b6b2f1979"
  },
  "kernelspec": {
   "display_name": "Python 3.9.7 ('gpu')",
   "language": "python",
   "name": "python3"
  },
  "language_info": {
   "codemirror_mode": {
    "name": "ipython",
    "version": 3
   },
   "file_extension": ".py",
   "mimetype": "text/x-python",
   "name": "python",
   "nbconvert_exporter": "python",
   "pygments_lexer": "ipython3",
   "version": "3.9.7"
  },
  "orig_nbformat": 4
 },
 "nbformat": 4,
 "nbformat_minor": 2
}
