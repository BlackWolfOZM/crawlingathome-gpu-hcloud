{
 "cells": [
  {
   "cell_type": "code",
   "execution_count": null,
   "metadata": {},
   "outputs": [],
   "source": [
    "!pip install lxml"
   ]
  },
  {
   "cell_type": "code",
   "execution_count": 287,
   "metadata": {},
   "outputs": [],
   "source": [
    "import requests\n",
    "from lxml import etree, html\n",
    "from itertools import chain\n",
    "import pandas as pd\n",
    "import re\n",
    "# as per recommendation from @freylis, compile once only\n",
    "CLEANR = re.compile('<.*?>') \n",
    "\n",
    "resp = requests.get(\"http://www.nemoapps.com/phrasebooks/hebrew\")\n",
    "base = \"http://www.nemoapps.com\"\n",
    "\n",
    "htmlparser = etree.HTMLParser()\n",
    "tree = etree.fromstring(resp.text, htmlparser)\n",
    "\n"
   ]
  },
  {
   "cell_type": "code",
   "execution_count": 288,
   "metadata": {},
   "outputs": [
    {
     "name": "stdout",
     "output_type": "stream",
     "text": [
      "Length of the link : 101\n"
     ]
    }
   ],
   "source": [
    "string_document = html.fromstring(resp.text)\n",
    "links = list(set(string_document.iterlinks()))\n",
    "audio = []\n",
    "\n",
    "for link in links:\n",
    "    if link[2].endswith(\".mp3\"):\n",
    "        ln = link[2]\n",
    "        #if not ln.startswith(base):\n",
    "        #    ln = base + ln\n",
    "        audio.append(ln)\n",
    "print (\"Length of the link : \" + str(len(audio)))"
   ]
  },
  {
   "cell_type": "code",
   "execution_count": 289,
   "metadata": {},
   "outputs": [],
   "source": [
    "def stringify_children(node):\n",
    "    parts = (list(chain(*(etree.tostring(c, encoding=\"utf-8\").decode().split() for c in node.getchildren()))))\n",
    "    return ' '.join(filter(None, parts))"
   ]
  },
  {
   "cell_type": "code",
   "execution_count": 290,
   "metadata": {},
   "outputs": [],
   "source": [
    "def cleanhtml(raw_html):\n",
    "  cleantext = re.sub(CLEANR, '', raw_html)\n",
    "  return cleantext.strip()"
   ]
  },
  {
   "cell_type": "code",
   "execution_count": 291,
   "metadata": {},
   "outputs": [],
   "source": [
    "def _walk_parents(tag):\n",
    "    if tag.tag in [\"source\", \"audio\"]:\n",
    "        tag = tag.getparent()\n",
    "        return _walk_parents(tag)\n",
    "    else:\n",
    "        return(tag)\n"
   ]
  },
  {
   "cell_type": "code",
   "execution_count": 292,
   "metadata": {},
   "outputs": [],
   "source": [
    "def _detect_tag(link: str, tag: str, attr: str):\n",
    "    A = tree.xpath(f\"//{tag}[@{attr}='{link}']\")\n",
    "    if len(A) > 0:\n",
    "        return A[0]\n",
    "    else:\n",
    "        return None"
   ]
  },
  {
   "cell_type": "code",
   "execution_count": 293,
   "metadata": {},
   "outputs": [
    {
     "name": "stdout",
     "output_type": "stream",
     "text": [
      "td\n",
      "101\n"
     ]
    }
   ],
   "source": [
    "#first tag containing audio link\n",
    "L = None\n",
    "elem = None\n",
    "atrib = None\n",
    "#tags to try\n",
    "tags = [(\"source\", \"src\"),(\"audio\", \"src\"),(\"div\", \"downloadURL\"),(\"div\", \"src\")]\n",
    "for tg in tags:\n",
    "    A = _detect_tag(audio[0], tg[0], tg[1])\n",
    "    if A is not None:\n",
    "        L = _walk_parents(A)\n",
    "        elem = tg[0]\n",
    "        atrib = tg[1]\n",
    "        break\n",
    "    else:\n",
    "        print (f\"Exception: cannot extract {tg[0]} tag\")\n",
    "\n",
    "print(L.tag)\n",
    "if L.tag == \"td\":\n",
    "    L = L.getparent() # the looping element must be the tr\n",
    "#get looping siblings\n",
    "loops = [L]\n",
    "loops += list(L.itersiblings())\n",
    "loops += list(L.itersiblings(preceding=True))\n",
    "print(len(loops))"
   ]
  },
  {
   "cell_type": "code",
   "execution_count": 294,
   "metadata": {},
   "outputs": [
    {
     "name": "stdout",
     "output_type": "stream",
     "text": [
      "(101, 2)\n"
     ]
    }
   ],
   "source": [
    "#iterate loops. extract audio url, text and attributes\n",
    "df = pd.DataFrame(columns=[\"url\",\"label\"])\n",
    "for loop in loops:\n",
    "    items = list(loop.iter())\n",
    "    ln = None\n",
    "    for item in items:\n",
    "        if item.get(atrib) is not None:\n",
    "            if item.get(atrib).endswith(\".mp3\"):\n",
    "                ln = item.get(atrib)\n",
    "                if not ln.startswith(base):\n",
    "                    ln = base + ln\n",
    "            break\n",
    "    label = cleanhtml(stringify_children(loop))\n",
    "    df = df.append({'url':ln, 'label':label}, ignore_index = True)\n",
    "\n",
    "print(df.shape)\n",
    "\n",
    "df.to_parquet(\"demo_audio.parquet\")\n",
    "\n",
    "print(df.head())"
   ]
  }
 ],
 "metadata": {
  "interpreter": {
   "hash": "ee22a52db22349ad32e35f3b499efddea1c9229e771c5fd65652469b6b2f1979"
  },
  "kernelspec": {
   "display_name": "Python 3.9.7 64-bit ('gpu': conda)",
   "language": "python",
   "name": "python3"
  },
  "language_info": {
   "codemirror_mode": {
    "name": "ipython",
    "version": 3
   },
   "file_extension": ".py",
   "mimetype": "text/x-python",
   "name": "python",
   "nbconvert_exporter": "python",
   "pygments_lexer": "ipython3",
   "version": "3.9.7"
  },
  "orig_nbformat": 4
 },
 "nbformat": 4,
 "nbformat_minor": 2
}
