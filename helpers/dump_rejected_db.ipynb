{
 "cells": [
  {
   "cell_type": "code",
   "execution_count": 1,
   "metadata": {},
   "outputs": [],
   "source": [
    "from sqlalchemy import create_engine\n",
    "from configparser import ConfigParser\n",
    "from tqdm.auto import tqdm\n",
    "import uuid"
   ]
  },
  {
   "cell_type": "code",
   "execution_count": 2,
   "metadata": {},
   "outputs": [],
   "source": [
    "def config(filename='database.ini', section='postgresql'):\n",
    "    # create a parser\n",
    "    parser = ConfigParser()\n",
    "    # read config file\n",
    "    parser.read(filename)\n",
    "    # get section, default to postgresql\n",
    "    db = {}\n",
    "    if parser.has_section(section):\n",
    "        params = parser.items(section)\n",
    "        for param in params:\n",
    "            db[param[0]] = param[1]\n",
    "    else:\n",
    "        raise Exception('Section {0} not found in the {1} file'.format(section, filename))\n",
    "    return db"
   ]
  },
  {
   "cell_type": "code",
   "execution_count": 5,
   "metadata": {},
   "outputs": [],
   "source": [
    "def dump_3m(engine):\n",
    "    file = uuid.uuid4()\n",
    "    #select_stmt1 = f\"COPY (DELETE FROM dataset WHERE sampleid IN (SELECT sampleid from dataset where status = 2 and language = 'en' LIMIT 4500000) RETURNING *) TO '/home/cah/clipped/ok-{file}.csv' DELIMITER '|' CSV HEADER;\"\n",
    "    select_stmt1 = f\"COPY (DELETE FROM dataset WHERE sampleid IN (SELECT sampleid from dataset where status > 8 LIMIT 4500000) RETURNING *) TO '/home/cah/rejected/bad-{file}.csv' DELIMITER '|' CSV HEADER;\"\n",
    "    conn = engine.raw_connection()\n",
    "    try:\n",
    "        cur = conn.cursor()\n",
    "        cur.execute(select_stmt1)\n",
    "        conn.commit()\n",
    "        cur.close()\n",
    "    except:\n",
    "        print(\"error\")\n",
    "    conn.close()\n",
    "    return"
   ]
  },
  {
   "cell_type": "code",
   "execution_count": 7,
   "metadata": {},
   "outputs": [
    {
     "data": {
      "application/vnd.jupyter.widget-view+json": {
       "model_id": "0b5f204b0c83493e83d912cd66a628b3",
       "version_major": 2,
       "version_minor": 0
      },
      "text/plain": [
       "  0%|          | 0/24 [00:00<?, ?it/s]"
      ]
     },
     "metadata": {},
     "output_type": "display_data"
    }
   ],
   "source": [
    "params = config()\n",
    "cycles = 24\n",
    "\n",
    "engine = create_engine(f'postgresql://{params[\"user\"]}:{params[\"password\"]}@{params[\"host\"]}:5432/{params[\"database\"]}',pool_size=3, max_overflow=5, pool_pre_ping=True)\n",
    "\n",
    "for i in tqdm(range(cycles)):\n",
    "    dump_3m(engine)\n"
   ]
  },
  {
   "cell_type": "code",
   "execution_count": 6,
   "metadata": {},
   "outputs": [],
   "source": [
    "import pandas as pd\n",
    "df = pd.read_csv(\"4a44ef0d-00ba-4842-b385-3d06245053d9.csv\", delimiter=\"|\")\n",
    "df.to_parquet(\"4a44ef0d-00ba-4842-b385-3d06245053d9.parquet\")"
   ]
  }
 ],
 "metadata": {
  "interpreter": {
   "hash": "ee22a52db22349ad32e35f3b499efddea1c9229e771c5fd65652469b6b2f1979"
  },
  "kernelspec": {
   "display_name": "Python 3.9.7 64-bit ('gpu': conda)",
   "name": "python3"
  },
  "language_info": {
   "codemirror_mode": {
    "name": "ipython",
    "version": 3
   },
   "file_extension": ".py",
   "mimetype": "text/x-python",
   "name": "python",
   "nbconvert_exporter": "python",
   "pygments_lexer": "ipython3",
   "version": "3.9.7"
  },
  "orig_nbformat": 4
 },
 "nbformat": 4,
 "nbformat_minor": 2
}
